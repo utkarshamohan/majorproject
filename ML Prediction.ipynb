{
 "cells": [
  {
   "cell_type": "code",
   "execution_count": 1,
   "id": "6a775863",
   "metadata": {
    "ExecuteTime": {
     "end_time": "2021-07-13T16:12:30.664852Z",
     "start_time": "2021-07-13T16:12:29.035859Z"
    }
   },
   "outputs": [],
   "source": [
    "import pandas as pd\n",
    "import numpy as np\n",
    "from sklearn.linear_model import LinearRegression\n",
    "import sklearn"
   ]
  },
  {
   "cell_type": "code",
   "execution_count": 23,
   "id": "c360b1a6",
   "metadata": {
    "ExecuteTime": {
     "end_time": "2021-07-13T16:26:47.417316Z",
     "start_time": "2021-07-13T16:26:47.394536Z"
    },
    "scrolled": true
   },
   "outputs": [
    {
     "data": {
      "text/html": [
       "<div>\n",
       "<style scoped>\n",
       "    .dataframe tbody tr th:only-of-type {\n",
       "        vertical-align: middle;\n",
       "    }\n",
       "\n",
       "    .dataframe tbody tr th {\n",
       "        vertical-align: top;\n",
       "    }\n",
       "\n",
       "    .dataframe thead th {\n",
       "        text-align: right;\n",
       "    }\n",
       "</style>\n",
       "<table border=\"1\" class=\"dataframe\">\n",
       "  <thead>\n",
       "    <tr style=\"text-align: right;\">\n",
       "      <th></th>\n",
       "      <th>Power</th>\n",
       "      <th>Speed</th>\n",
       "      <th>Passes</th>\n",
       "      <th>Temp</th>\n",
       "      <th>Weld Stress</th>\n",
       "    </tr>\n",
       "  </thead>\n",
       "  <tbody>\n",
       "    <tr>\n",
       "      <th>0</th>\n",
       "      <td>25.5</td>\n",
       "      <td>1.0</td>\n",
       "      <td>15</td>\n",
       "      <td>186.51</td>\n",
       "      <td>19.5635</td>\n",
       "    </tr>\n",
       "    <tr>\n",
       "      <th>1</th>\n",
       "      <td>25.5</td>\n",
       "      <td>2.0</td>\n",
       "      <td>15</td>\n",
       "      <td>180.11</td>\n",
       "      <td>17.5980</td>\n",
       "    </tr>\n",
       "    <tr>\n",
       "      <th>2</th>\n",
       "      <td>25.5</td>\n",
       "      <td>3.0</td>\n",
       "      <td>15</td>\n",
       "      <td>171.46</td>\n",
       "      <td>16.5610</td>\n",
       "    </tr>\n",
       "    <tr>\n",
       "      <th>3</th>\n",
       "      <td>25.5</td>\n",
       "      <td>4.0</td>\n",
       "      <td>15</td>\n",
       "      <td>167.15</td>\n",
       "      <td>15.4830</td>\n",
       "    </tr>\n",
       "    <tr>\n",
       "      <th>4</th>\n",
       "      <td>25.5</td>\n",
       "      <td>5.0</td>\n",
       "      <td>15</td>\n",
       "      <td>160.37</td>\n",
       "      <td>14.8950</td>\n",
       "    </tr>\n",
       "  </tbody>\n",
       "</table>\n",
       "</div>"
      ],
      "text/plain": [
       "   Power  Speed  Passes    Temp  Weld Stress\n",
       "0   25.5    1.0      15  186.51      19.5635\n",
       "1   25.5    2.0      15  180.11      17.5980\n",
       "2   25.5    3.0      15  171.46      16.5610\n",
       "3   25.5    4.0      15  167.15      15.4830\n",
       "4   25.5    5.0      15  160.37      14.8950"
      ]
     },
     "execution_count": 23,
     "metadata": {},
     "output_type": "execute_result"
    }
   ],
   "source": [
    "df =pd.read_csv('/home/utkarsha/Documents/Fractal Courses/temp dataset.csv')\n",
    "df.head()"
   ]
  },
  {
   "cell_type": "code",
   "execution_count": 24,
   "id": "ba3eb90f",
   "metadata": {
    "ExecuteTime": {
     "end_time": "2021-07-13T16:26:49.714860Z",
     "start_time": "2021-07-13T16:26:49.709375Z"
    }
   },
   "outputs": [],
   "source": [
    "y= df['Weld Stress']\n",
    "x= df[['Power', 'Speed', 'Passes']]"
   ]
  },
  {
   "cell_type": "code",
   "execution_count": 25,
   "id": "70d4d5a3",
   "metadata": {
    "ExecuteTime": {
     "end_time": "2021-07-13T16:26:50.817350Z",
     "start_time": "2021-07-13T16:26:50.813669Z"
    }
   },
   "outputs": [],
   "source": [
    "import matplotlib.pyplot as plt"
   ]
  },
  {
   "cell_type": "code",
   "execution_count": 36,
   "id": "23cc1269",
   "metadata": {
    "ExecuteTime": {
     "end_time": "2021-07-13T16:27:25.447655Z",
     "start_time": "2021-07-13T16:27:25.425270Z"
    }
   },
   "outputs": [
    {
     "data": {
      "text/plain": [
       "Pipeline(steps=[('polynomialfeatures', PolynomialFeatures()),\n",
       "                ('linearregression', LinearRegression())])"
      ]
     },
     "execution_count": 36,
     "metadata": {},
     "output_type": "execute_result"
    }
   ],
   "source": [
    "from sklearn.preprocessing import PolynomialFeatures\n",
    "from sklearn.pipeline import make_pipeline\n",
    "from sklearn.linear_model import LinearRegression\n",
    "degree=2\n",
    "polyreg1=make_pipeline(PolynomialFeatures(degree),LinearRegression())\n",
    "polyreg1.fit(x,y)"
   ]
  },
  {
   "cell_type": "code",
   "execution_count": 37,
   "id": "57a9929b",
   "metadata": {
    "ExecuteTime": {
     "end_time": "2021-07-13T16:27:28.057375Z",
     "start_time": "2021-07-13T16:27:27.801914Z"
    }
   },
   "outputs": [
    {
     "data": {
      "text/plain": [
       "[<matplotlib.lines.Line2D at 0x7fafe3272ac0>]"
      ]
     },
     "execution_count": 37,
     "metadata": {},
     "output_type": "execute_result"
    },
    {
     "data": {
      "image/png": "[encoded data removed]",
      "text/plain": [
       "<Figure size 432x288 with 1 Axes>"
      ]
     },
     "metadata": {
      "needs_background": "light"
     },
     "output_type": "display_data"
    }
   ],
   "source": [
    "polyy= polyreg1.predict(x)\n",
    "plt.plot(y)\n",
    "plt.plot(polyy)"
   ]
  },
  {
   "cell_type": "code",
   "execution_count": 38,
   "id": "4effc5c2",
   "metadata": {
    "ExecuteTime": {
     "end_time": "2021-07-13T16:27:30.409134Z",
     "start_time": "2021-07-13T16:27:30.393813Z"
    }
   },
   "outputs": [
    {
     "data": {
      "text/plain": [
       "0.9311634383994045"
      ]
     },
     "execution_count": 38,
     "metadata": {},
     "output_type": "execute_result"
    }
   ],
   "source": [
    "polyreg1.score(x, y)"
   ]
  },
  {
   "cell_type": "code",
   "execution_count": 39,
   "id": "a066a6e5",
   "metadata": {
    "ExecuteTime": {
     "end_time": "2021-07-13T16:27:32.600047Z",
     "start_time": "2021-07-13T16:27:32.596185Z"
    }
   },
   "outputs": [],
   "source": [
    "polym1 = polyreg1.named_steps['polynomialfeatures']\n",
    "classifier = polyreg1.named_steps['linearregression']"
   ]
  },
  {
   "cell_type": "code",
   "execution_count": 40,
   "id": "5a8b9c35",
   "metadata": {
    "ExecuteTime": {
     "end_time": "2021-07-13T16:27:33.153378Z",
     "start_time": "2021-07-13T16:27:33.147642Z"
    }
   },
   "outputs": [],
   "source": [
    "coefm1=classifier.coef_\n",
    "intm1=classifier.intercept_"
   ]
  },
  {
   "cell_type": "code",
   "execution_count": 41,
   "id": "8d0e52d7",
   "metadata": {
    "ExecuteTime": {
     "end_time": "2021-07-13T16:27:33.562322Z",
     "start_time": "2021-07-13T16:27:33.552522Z"
    }
   },
   "outputs": [
    {
     "name": "stdout",
     "output_type": "stream",
     "text": [
      "[ 0.          4.92808484  3.07060792  0.31873667 -0.09356582 -0.13034706\n",
      " -0.01270522 -0.12064682 -0.02577499  0.01430978]\n"
     ]
    }
   ],
   "source": [
    "print(coefm1)"
   ]
  },
  {
   "cell_type": "code",
   "execution_count": 43,
   "id": "509e16b7",
   "metadata": {
    "ExecuteTime": {
     "end_time": "2021-07-13T16:47:53.860728Z",
     "start_time": "2021-07-13T16:47:53.855409Z"
    }
   },
   "outputs": [
    {
     "name": "stdout",
     "output_type": "stream",
     "text": [
      "-47.85611247002959\n"
     ]
    }
   ],
   "source": [
    "print(intm1)"
   ]
  },
  {
   "cell_type": "code",
   "execution_count": 68,
   "id": "f80e74fe",
   "metadata": {
    "ExecuteTime": {
     "end_time": "2021-07-13T17:43:52.010753Z",
     "start_time": "2021-07-13T17:43:51.985295Z"
    }
   },
   "outputs": [
    {
     "data": {
      "text/html": [
       "<div>\n",
       "<style scoped>\n",
       "    .dataframe tbody tr th:only-of-type {\n",
       "        vertical-align: middle;\n",
       "    }\n",
       "\n",
       "    .dataframe tbody tr th {\n",
       "        vertical-align: top;\n",
       "    }\n",
       "\n",
       "    .dataframe thead th {\n",
       "        text-align: right;\n",
       "    }\n",
       "</style>\n",
       "<table border=\"1\" class=\"dataframe\">\n",
       "  <thead>\n",
       "    <tr style=\"text-align: right;\">\n",
       "      <th></th>\n",
       "      <th>Power</th>\n",
       "      <th>Speed</th>\n",
       "      <th>Passes</th>\n",
       "    </tr>\n",
       "  </thead>\n",
       "  <tbody>\n",
       "    <tr>\n",
       "      <th>0</th>\n",
       "      <td>25.5</td>\n",
       "      <td>5.0</td>\n",
       "      <td>15</td>\n",
       "    </tr>\n",
       "    <tr>\n",
       "      <th>1</th>\n",
       "      <td>25.5</td>\n",
       "      <td>6.7</td>\n",
       "      <td>20</td>\n",
       "    </tr>\n",
       "    <tr>\n",
       "      <th>2</th>\n",
       "      <td>25.5</td>\n",
       "      <td>8.3</td>\n",
       "      <td>25</td>\n",
       "    </tr>\n",
       "    <tr>\n",
       "      <th>3</th>\n",
       "      <td>27.0</td>\n",
       "      <td>5.0</td>\n",
       "      <td>20</td>\n",
       "    </tr>\n",
       "    <tr>\n",
       "      <th>4</th>\n",
       "      <td>27.0</td>\n",
       "      <td>6.7</td>\n",
       "      <td>25</td>\n",
       "    </tr>\n",
       "    <tr>\n",
       "      <th>5</th>\n",
       "      <td>27.0</td>\n",
       "      <td>8.3</td>\n",
       "      <td>15</td>\n",
       "    </tr>\n",
       "    <tr>\n",
       "      <th>6</th>\n",
       "      <td>28.5</td>\n",
       "      <td>5.0</td>\n",
       "      <td>25</td>\n",
       "    </tr>\n",
       "    <tr>\n",
       "      <th>7</th>\n",
       "      <td>28.5</td>\n",
       "      <td>6.7</td>\n",
       "      <td>15</td>\n",
       "    </tr>\n",
       "  </tbody>\n",
       "</table>\n",
       "</div>"
      ],
      "text/plain": [
       "   Power  Speed  Passes\n",
       "0   25.5    5.0      15\n",
       "1   25.5    6.7      20\n",
       "2   25.5    8.3      25\n",
       "3   27.0    5.0      20\n",
       "4   27.0    6.7      25\n",
       "5   27.0    8.3      15\n",
       "6   28.5    5.0      25\n",
       "7   28.5    6.7      15"
      ]
     },
     "execution_count": 68,
     "metadata": {},
     "output_type": "execute_result"
    }
   ],
   "source": [
    "# define one new data instance\n",
    "df2 =pd.read_csv('/home/utkarsha/Desktop/Test Data - Sheet1.csv')\n",
    "df2"
   ]
  },
  {
   "cell_type": "code",
   "execution_count": 95,
   "id": "6b1415de",
   "metadata": {
    "ExecuteTime": {
     "end_time": "2021-07-13T17:59:52.938911Z",
     "start_time": "2021-07-13T17:59:52.925302Z"
    }
   },
   "outputs": [
    {
     "name": "stdout",
     "output_type": "stream",
     "text": [
      "Predicted=[13.89437466 12.02145278 10.01974829 14.39303901 12.58884457  4.60275456\n",
      " 14.99556796  6.84181594]\n"
     ]
    }
   ],
   "source": [
    "xnew= df2[['Power', 'Speed', 'Passes']]\n",
    "# make a prediction\n",
    "ynew = polyreg1.predict(xnew)\n",
    "# show the inputs and predicted outputs\n",
    "print(\"Predicted=%s\" %(ynew))"
   ]
  },
  {
   "cell_type": "code",
   "execution_count": null,
   "id": "d48ce011",
   "metadata": {},
   "outputs": [],
   "source": []
  }
 ],
 "metadata": {
  "kernelspec": {
   "display_name": "Python 3",
   "language": "python",
   "name": "python3"
  },
  "language_info": {
   "codemirror_mode": {
    "name": "ipython",
    "version": 3
   },
   "file_extension": ".py",
   "mimetype": "text/x-python",
   "name": "python",
   "nbconvert_exporter": "python",
   "pygments_lexer": "ipython3",
   "version": "3.8.5"
  }
 },
 "nbformat": 4,
 "nbformat_minor": 5
}
